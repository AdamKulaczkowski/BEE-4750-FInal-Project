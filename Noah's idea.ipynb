{
 "cells": [
  {
   "cell_type": "code",
   "execution_count": 1,
   "id": "traditional-slovenia",
   "metadata": {},
   "outputs": [
    {
     "name": "stderr",
     "output_type": "stream",
     "text": [
      "┌ Info: For saving to png with the Plotly backend PlotlyBase has to be installed.\n",
      "└ @ Plots C:\\Users\\Noah Klausner\\.julia\\packages\\Plots\\SjqWU\\src\\backends.jl:372\n"
     ]
    }
   ],
   "source": [
    "import Pkg;\n",
    "using SpecialFunctions\n",
    "using Plots; plotly();\n",
    "using Ipopt\n",
    "using JuMP"
   ]
  },
  {
   "cell_type": "code",
   "execution_count": 2,
   "id": "competitive-contribution",
   "metadata": {},
   "outputs": [
    {
     "data": {
      "text/plain": [
       "80"
      ]
     },
     "execution_count": 2,
     "metadata": {},
     "output_type": "execute_result"
    }
   ],
   "source": [
    "p_gac = 2.1*10^6\n",
    "p_soil = 1.3*10^6\n",
    "vol = 2*1.82*1.22\n",
    "K_A = 0.0016\n",
    "P_A = 20\n",
    "K_B = 0.0032\n",
    "P_B = 40\n",
    "K_C = 0.0048\n",
    "P_C = 80\n",
    "lim = (600*10^-9)*(1.3*10^6)"
   ]
  },
  {
   "cell_type": "code",
   "execution_count": 3,
   "id": "black-release",
   "metadata": {},
   "outputs": [
    {
     "data": {
      "text/plain": [
       "C (generic function with 1 method)"
      ]
     },
     "execution_count": 3,
     "metadata": {},
     "output_type": "execute_result"
    }
   ],
   "source": [
    "function C(Co,x,v,t,D,f_gac,f_A,f_B,f_C)\n",
    "    m_soil = p_soil*vol*(1-f_gac)\n",
    "    m_gac = p_gac*vol*f_gac\n",
    "    k_gac = K_A*f_A + K_B*f_B + K_C*f_C\n",
    "    k_d = k_gac*f_gac\n",
    "    p_d = (m_soil+m_gac)/vol\n",
    "    theta = 1-(((m_gac/p_gac)+(m_soil/p_soil))/vol)\n",
    "    R = 1 + (k_d*p_d)/theta\n",
    "    C = Co*erfc((x-(v/R)*t)/(2*sqrt((D/R)*t)))\n",
    "    return C\n",
    "end"
   ]
  },
  {
   "cell_type": "code",
   "execution_count": 4,
   "id": "cutting-transcript",
   "metadata": {},
   "outputs": [
    {
     "data": {
      "text/plain": [
       "Cost_rate (generic function with 1 method)"
      ]
     },
     "execution_count": 4,
     "metadata": {},
     "output_type": "execute_result"
    }
   ],
   "source": [
    "function Cost_rate(Co,x,v,t,D,f_gac,f_A,f_B,f_C)\n",
    "    costperfilter = p_gac*f_gac*vol*(f_A*P_A + f_B*P_B + f_C*P_C)\n",
    "    T = 0\n",
    "    Conc = C(Co,x,v,T,D,f_gac,f_A,f_B,f_C)\n",
    "    while Conc < lim\n",
    "        T = T + 0.1\n",
    "        Conc = C(Co,x,v,T,D,f_gac,f_A,f_B,f_C)\n",
    "    end\n",
    "    Cost_rate = costperfilter*T\n",
    "    return Cost_rate\n",
    "end     "
   ]
  },
  {
   "cell_type": "code",
   "execution_count": 11,
   "id": "bright-philip",
   "metadata": {},
   "outputs": [
    {
     "ename": "LoadError",
     "evalue": "\u001b[91mCannot multiply a quadratic expression by an aff. expression\u001b[39m",
     "output_type": "error",
     "traceback": [
      "\u001b[91mCannot multiply a quadratic expression by an aff. expression\u001b[39m",
      "",
      "Stacktrace:",
      " [1] error(::String) at .\\error.jl:33",
      " [2] *(::GenericQuadExpr{Float64,VariableRef}, ::GenericAffExpr{Float64,VariableRef}) at C:\\Users\\Noah Klausner\\.julia\\packages\\JuMP\\y5vgk\\src\\operators.jl:217",
      " [3] C(::Float64, ::Int64, ::Float64, ::Int64, ::Float64, ::VariableRef, ::VariableRef, ::VariableRef, ::VariableRef) at .\\In[3]:8",
      " [4] Cost_rate(::Float64, ::Int64, ::Float64, ::Int64, ::Float64, ::VariableRef, ::VariableRef, ::VariableRef, ::VariableRef) at .\\In[4]:4",
      " [5] top-level scope at C:\\Users\\Noah Klausner\\.julia\\packages\\MutableArithmetics\\0Y9ZS\\src\\rewrite.jl:279",
      " [6] top-level scope at C:\\Users\\Noah Klausner\\.julia\\packages\\JuMP\\y5vgk\\src\\macros.jl:928",
      " [7] top-level scope at In[11]:6",
      " [8] include_string(::Function, ::Module, ::String, ::String) at .\\loading.jl:1091"
     ]
    }
   ],
   "source": [
    "C_model = Model(Ipopt.Optimizer)\n",
    "@variable(C_model, 0 <= f_gac <= 1)\n",
    "@variable(C_model, 0 <= f_A <= 1)\n",
    "@variable(C_model, 0 <= f_B <= 1)\n",
    "@variable(C_model, 0 <= f_C <= 1)\n",
    "@objective(C_model, Min, Cost_rate(2.8785,2,0.00000317,8000,0.0001268392,f_gac,f_A,f_B,f_C))\n",
    "@constraint(C_model, c1, f_A + f_B + f_C = 1)"
   ]
  },
  {
   "cell_type": "code",
   "execution_count": 12,
   "id": "continent-alcohol",
   "metadata": {},
   "outputs": [
    {
     "name": "stdout",
     "output_type": "stream",
     "text": [
      "This is Ipopt version 3.13.4, running with linear solver mumps.\n",
      "NOTE: Other linear solvers might be more efficient (see Ipopt documentation).\n",
      "\n",
      "Number of nonzeros in equality constraint Jacobian...:        0\n",
      "Number of nonzeros in inequality constraint Jacobian.:        0\n",
      "Number of nonzeros in Lagrangian Hessian.............:        0\n",
      "\n",
      "Total number of variables............................:        4\n",
      "                     variables with only lower bounds:        0\n",
      "                variables with lower and upper bounds:        4\n",
      "                     variables with only upper bounds:        0\n",
      "Total number of equality constraints.................:        0\n",
      "Total number of inequality constraints...............:        0\n",
      "        inequality constraints with only lower bounds:        0\n",
      "   inequality constraints with lower and upper bounds:        0\n",
      "        inequality constraints with only upper bounds:        0\n",
      "\n",
      "iter    objective    inf_pr   inf_du lg(mu)  ||d||  lg(rg) alpha_du alpha_pr  ls\n",
      "   0  0.0000000e+00 0.00e+00 0.00e+00  -1.0 0.00e+00    -  0.00e+00 0.00e+00   0\n",
      "   1  0.0000000e+00 0.00e+00 0.00e+00  -1.7 1.96e-02    -  1.00e+00 1.00e+00f  1\n",
      "   2  0.0000000e+00 0.00e+00 0.00e+00  -2.5 6.65e-02    -  1.00e+00 1.00e+00f  1\n",
      "   3  0.0000000e+00 0.00e+00 0.00e+00  -3.8 2.15e-02    -  1.00e+00 1.00e+00f  1\n",
      "   4  0.0000000e+00 0.00e+00 0.00e+00  -5.7 4.69e-03    -  1.00e+00 1.00e+00f  1\n",
      "   5  0.0000000e+00 0.00e+00 0.00e+00  -8.6 5.13e-04    -  1.00e+00 1.00e+00f  1\n",
      "\n",
      "Number of Iterations....: 5\n",
      "\n",
      "                                   (scaled)                 (unscaled)\n",
      "Objective...............:   0.0000000000000000e+00    0.0000000000000000e+00\n",
      "Dual infeasibility......:   0.0000000000000000e+00    0.0000000000000000e+00\n",
      "Constraint violation....:   0.0000000000000000e+00    0.0000000000000000e+00\n",
      "Complementarity.........:   4.3963225414873614e-09    4.3963225414873614e-09\n",
      "Overall NLP error.......:   4.3963225414873614e-09    4.3963225414873614e-09\n",
      "\n",
      "\n",
      "Number of objective function evaluations             = 6\n",
      "Number of objective gradient evaluations             = 6\n",
      "Number of equality constraint evaluations            = 0\n",
      "Number of inequality constraint evaluations          = 0\n",
      "Number of equality constraint Jacobian evaluations   = 0\n",
      "Number of inequality constraint Jacobian evaluations = 0\n",
      "Number of Lagrangian Hessian evaluations             = 1\n",
      "Total CPU secs in IPOPT (w/o function evaluations)   =      0.006\n",
      "Total CPU secs in NLP function evaluations           =      0.000\n",
      "\n",
      "EXIT: Optimal Solution Found.\n"
     ]
    }
   ],
   "source": [
    "optimize!(C_model)"
   ]
  },
  {
   "cell_type": "code",
   "execution_count": 13,
   "id": "essential-estonia",
   "metadata": {},
   "outputs": [
    {
     "name": "stdout",
     "output_type": "stream",
     "text": [
      "value(f_gac) = 0.12280690884667908\n"
     ]
    },
    {
     "data": {
      "text/plain": [
       "0.12280690884667908"
      ]
     },
     "execution_count": 13,
     "metadata": {},
     "output_type": "execute_result"
    }
   ],
   "source": [
    "@show value(f_gac)"
   ]
  },
  {
   "cell_type": "code",
   "execution_count": 14,
   "id": "fitted-portuguese",
   "metadata": {},
   "outputs": [
    {
     "name": "stdout",
     "output_type": "stream",
     "text": [
      "value(f_A) = 0.12280690884667908\n"
     ]
    },
    {
     "data": {
      "text/plain": [
       "0.12280690884667908"
      ]
     },
     "execution_count": 14,
     "metadata": {},
     "output_type": "execute_result"
    }
   ],
   "source": [
    "@show value(f_A)"
   ]
  },
  {
   "cell_type": "code",
   "execution_count": 15,
   "id": "growing-prize",
   "metadata": {},
   "outputs": [
    {
     "name": "stdout",
     "output_type": "stream",
     "text": [
      "value(f_B) = 0.12280690884667908\n"
     ]
    },
    {
     "data": {
      "text/plain": [
       "0.12280690884667908"
      ]
     },
     "execution_count": 15,
     "metadata": {},
     "output_type": "execute_result"
    }
   ],
   "source": [
    "@show value(f_B)"
   ]
  },
  {
   "cell_type": "code",
   "execution_count": 16,
   "id": "engaging-cooper",
   "metadata": {},
   "outputs": [
    {
     "name": "stdout",
     "output_type": "stream",
     "text": [
      "value(f_C) = 0.12280690884667908\n"
     ]
    },
    {
     "data": {
      "text/plain": [
       "0.12280690884667908"
      ]
     },
     "execution_count": 16,
     "metadata": {},
     "output_type": "execute_result"
    }
   ],
   "source": [
    "@show value(f_C)"
   ]
  },
  {
   "cell_type": "code",
   "execution_count": null,
   "id": "beautiful-woman",
   "metadata": {},
   "outputs": [],
   "source": []
  }
 ],
 "metadata": {
  "kernelspec": {
   "display_name": "Julia 1.5.3",
   "language": "julia",
   "name": "julia-1.5"
  },
  "language_info": {
   "file_extension": ".jl",
   "mimetype": "application/julia",
   "name": "julia",
   "version": "1.5.3"
  }
 },
 "nbformat": 4,
 "nbformat_minor": 5
}
