{
 "cells": [
  {
   "cell_type": "code",
   "execution_count": 1,
   "id": "earlier-merit",
   "metadata": {},
   "outputs": [
    {
     "name": "stderr",
     "output_type": "stream",
     "text": [
      "\u001b[32m\u001b[1m   Updating\u001b[22m\u001b[39m registry at `~/.julia/registries/General`\n",
      "┌ Warning: could not download https://pkg.julialang.org/registries\n",
      "└ @ Pkg.Types /Users/julia/buildbot/worker/package_macos64/build/usr/share/julia/stdlib/v1.5/Pkg/src/Types.jl:951\n",
      "\u001b[32m\u001b[1m  Resolving\u001b[22m\u001b[39m package versions...\n",
      "\u001b[32m\u001b[1mUpdating\u001b[22m\u001b[39m `~/.julia/environments/v1.5/Project.toml`\n",
      " \u001b[90m [276daf66] \u001b[39m\u001b[92m+ SpecialFunctions v1.7.0\u001b[39m\n",
      "\u001b[32m\u001b[1mNo Changes\u001b[22m\u001b[39m to `~/.julia/environments/v1.5/Manifest.toml`\n",
      "┌ Info: For saving to png with the Plotly backend PlotlyBase has to be installed.\n",
      "└ @ Plots /Users/adamkulaczkowski/.julia/packages/Plots/oZheM/src/backends.jl:372\n"
     ]
    }
   ],
   "source": [
    "import Pkg; Pkg.add(\"SpecialFunctions\");\n",
    "using SpecialFunctions, Math\n",
    "using Plots; plotly();"
   ]
  },
  {
   "cell_type": "code",
   "execution_count": 3,
   "id": "entitled-sword",
   "metadata": {},
   "outputs": [
    {
     "data": {
      "text/plain": [
       "conc (generic function with 1 method)"
      ]
     },
     "execution_count": 3,
     "metadata": {},
     "output_type": "execute_result"
    }
   ],
   "source": [
    "function conc(Co,x,v,t,D)\n",
    "    C = (Co/2)*erf((x - v*t)/(2*sqrt(D*t)))\n",
    "    return C\n",
    "end"
   ]
  },
  {
   "cell_type": "code",
   "execution_count": null,
   "id": "animal-borough",
   "metadata": {},
   "outputs": [],
   "source": []
  }
 ],
 "metadata": {
  "kernelspec": {
   "display_name": "Julia 1.5.3",
   "language": "julia",
   "name": "julia-1.5"
  },
  "language_info": {
   "file_extension": ".jl",
   "mimetype": "application/julia",
   "name": "julia",
   "version": "1.5.3"
  }
 },
 "nbformat": 4,
 "nbformat_minor": 5
}
